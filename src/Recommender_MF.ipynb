{
 "cells": [
  {
   "cell_type": "code",
   "execution_count": 16,
   "metadata": {},
   "outputs": [
    {
     "name": "stdout",
     "output_type": "stream",
     "text": [
      "The autoreload extension is already loaded. To reload it, use:\n",
      "  %reload_ext autoreload\n"
     ]
    }
   ],
   "source": [
    "# -*- coding: utf-8 -*-\n",
    "\n",
    "import numpy as np\n",
    "import pandas as pd\n",
    "import scipy.sparse as sp\n",
    "import seaborn as sns\n",
    "import matplotlib.pyplot as plt\n",
    "\n",
    "%matplotlib inline\n",
    "%load_ext autoreload\n",
    "%autoreload 2"
   ]
  },
  {
   "cell_type": "code",
   "execution_count": 17,
   "metadata": {},
   "outputs": [],
   "source": [
    "dat_dir = '../data/'\n",
    "sub_dir = '../submit/'"
   ]
  },
  {
   "cell_type": "markdown",
   "metadata": {},
   "source": [
    "## Part 1: Data Loading and Pre-processing"
   ]
  },
  {
   "cell_type": "markdown",
   "metadata": {},
   "source": [
    "#### 1.1 Load the data"
   ]
  },
  {
   "cell_type": "code",
   "execution_count": 18,
   "metadata": {
    "scrolled": true
   },
   "outputs": [
    {
     "data": {
      "text/html": [
       "<div>\n",
       "<style scoped>\n",
       "    .dataframe tbody tr th:only-of-type {\n",
       "        vertical-align: middle;\n",
       "    }\n",
       "\n",
       "    .dataframe tbody tr th {\n",
       "        vertical-align: top;\n",
       "    }\n",
       "\n",
       "    .dataframe thead th {\n",
       "        text-align: right;\n",
       "    }\n",
       "</style>\n",
       "<table border=\"1\" class=\"dataframe\">\n",
       "  <thead>\n",
       "    <tr style=\"text-align: right;\">\n",
       "      <th></th>\n",
       "      <th>Id</th>\n",
       "      <th>Prediction</th>\n",
       "      <th>row</th>\n",
       "      <th>column</th>\n",
       "    </tr>\n",
       "  </thead>\n",
       "  <tbody>\n",
       "    <tr>\n",
       "      <th>0</th>\n",
       "      <td>r44_c1</td>\n",
       "      <td>4</td>\n",
       "      <td>r44</td>\n",
       "      <td>c1</td>\n",
       "    </tr>\n",
       "    <tr>\n",
       "      <th>1</th>\n",
       "      <td>r61_c1</td>\n",
       "      <td>3</td>\n",
       "      <td>r61</td>\n",
       "      <td>c1</td>\n",
       "    </tr>\n",
       "    <tr>\n",
       "      <th>2</th>\n",
       "      <td>r67_c1</td>\n",
       "      <td>4</td>\n",
       "      <td>r67</td>\n",
       "      <td>c1</td>\n",
       "    </tr>\n",
       "    <tr>\n",
       "      <th>3</th>\n",
       "      <td>r72_c1</td>\n",
       "      <td>3</td>\n",
       "      <td>r72</td>\n",
       "      <td>c1</td>\n",
       "    </tr>\n",
       "    <tr>\n",
       "      <th>4</th>\n",
       "      <td>r86_c1</td>\n",
       "      <td>5</td>\n",
       "      <td>r86</td>\n",
       "      <td>c1</td>\n",
       "    </tr>\n",
       "  </tbody>\n",
       "</table>\n",
       "</div>"
      ],
      "text/plain": [
       "       Id  Prediction  row column\n",
       "0  r44_c1           4  r44     c1\n",
       "1  r61_c1           3  r61     c1\n",
       "2  r67_c1           4  r67     c1\n",
       "3  r72_c1           3  r72     c1\n",
       "4  r86_c1           5  r86     c1"
      ]
     },
     "execution_count": 18,
     "metadata": {},
     "output_type": "execute_result"
    }
   ],
   "source": [
    "# Firstly we have a glance at the dataset\n",
    "data = pd.read_csv(dat_dir + \"data_train.csv\")\n",
    "data['row'], data['column'] = data['Id'].str.split('_', 1).str\n",
    "data.head()"
   ]
  },
  {
   "cell_type": "code",
   "execution_count": 19,
   "metadata": {
    "scrolled": true
   },
   "outputs": [
    {
     "data": {
      "text/plain": [
       "4.0"
      ]
     },
     "execution_count": 19,
     "metadata": {},
     "output_type": "execute_result"
    }
   ],
   "source": [
    "data['Prediction'].median()"
   ]
  },
  {
   "cell_type": "code",
   "execution_count": 20,
   "metadata": {},
   "outputs": [
    {
     "data": {
      "text/plain": [
       "3.8572805008190647"
      ]
     },
     "execution_count": 20,
     "metadata": {},
     "output_type": "execute_result"
    }
   ],
   "source": [
    "data['Prediction'].mean()"
   ]
  },
  {
   "cell_type": "code",
   "execution_count": 21,
   "metadata": {},
   "outputs": [],
   "source": [
    "data['row'] = data['row'].apply(lambda x: int(x.replace(\"r\",\"\")))\n",
    "data['column'] = data['column'].apply(lambda x: int(x.replace(\"c\",\"\")))"
   ]
  },
  {
   "cell_type": "code",
   "execution_count": 22,
   "metadata": {},
   "outputs": [
    {
     "data": {
      "text/plain": [
       "Id            r9_c999\n",
       "Prediction          5\n",
       "row             10000\n",
       "column           1000\n",
       "dtype: object"
      ]
     },
     "execution_count": 22,
     "metadata": {},
     "output_type": "execute_result"
    }
   ],
   "source": [
    "data.max()"
   ]
  },
  {
   "cell_type": "code",
   "execution_count": 23,
   "metadata": {},
   "outputs": [
    {
     "name": "stderr",
     "output_type": "stream",
     "text": [
      "E:\\anaconda\\lib\\site-packages\\matplotlib\\axes\\_axes.py:6462: UserWarning: The 'normed' kwarg is deprecated, and has been replaced by the 'density' kwarg.\n",
      "  warnings.warn(\"The 'normed' kwarg is deprecated, and has been \"\n"
     ]
    },
    {
     "data": {
      "text/plain": [
       "<matplotlib.axes._subplots.AxesSubplot at 0x178e638f390>"
      ]
     },
     "execution_count": 23,
     "metadata": {},
     "output_type": "execute_result"
    },
    {
     "data": {
      "image/png": "[encoded data removed]",
      "text/plain": [
       "<Figure size 432x288 with 1 Axes>"
      ]
     },
     "metadata": {},
     "output_type": "display_data"
    }
   ],
   "source": [
    "sns.distplot(data['Prediction'])"
   ]
  },
  {
   "cell_type": "code",
   "execution_count": 24,
   "metadata": {},
   "outputs": [
    {
     "name": "stdout",
     "output_type": "stream",
     "text": [
      "number of items: 1000, number of users: 10000\n",
      "(1000, 10000)\n"
     ]
    }
   ],
   "source": [
    "# We have 10,000 rows (users) and 1,000 columns (movies). However, we will take movies as rows and users as columns to build the ratings matrix for convenient \n",
    "from data_process import load_data\n",
    "\n",
    "ratings = load_data(dat_dir + \"data_train.csv\")\n",
    "print(np.shape(ratings))"
   ]
  },
  {
   "cell_type": "code",
   "execution_count": 26,
   "metadata": {},
   "outputs": [
    {
     "data": {
      "image/png": "[encoded data removed]",
      "text/plain": [
       "<Figure size 432x288 with 2 Axes>"
      ]
     },
     "metadata": {},
     "output_type": "display_data"
    },
    {
     "name": "stdout",
     "output_type": "stream",
     "text": [
      "min # of items per user = 3, min # of users per item = 8.\n"
     ]
    }
   ],
   "source": [
    "# Plot the number of ratings per movie and user\n",
    "from plots import plot_raw_data\n",
    "\n",
    "num_items_per_user, num_users_per_item = plot_raw_data(ratings)\n",
    "\n",
    "print(\"min # of items per user = {}, min # of users per item = {}.\".format(\n",
    "        min(num_items_per_user), min(num_users_per_item)))\n",
    "# Since only a few users rated a small amount of movies and the same as the movies, we take all the users and movies into account."
   ]
  },
  {
   "cell_type": "markdown",
   "metadata": {},
   "source": [
    "#### 1.2 Split the data into a training and test set"
   ]
  },
  {
   "cell_type": "code",
   "execution_count": 28,
   "metadata": {
    "scrolled": false
   },
   "outputs": [
    {
     "name": "stdout",
     "output_type": "stream",
     "text": [
      "the shape of original ratings. (# of row, # of col): (1000, 10000)\n",
      "the shape of valid ratings. (# of row, # of col): (1000, 10000)\n",
      "Total number of nonzero elements in origial data:1176952\n",
      "Total number of nonzero elements in train data:1068598\n",
      "Total number of nonzero elements in test data:108354\n"
     ]
    }
   ],
   "source": [
    "from data_process import split_data\n",
    "\n",
    "valid_ratings, train, test = split_data(ratings, p_test=0.1)"
   ]
  },
  {
   "cell_type": "markdown",
   "metadata": {},
   "source": [
    "## Part 2: Learn the Matrix Factorization using SGD"
   ]
  },
  {
   "cell_type": "markdown",
   "metadata": {},
   "source": [
    "##### A. grid search using Surprise"
   ]
  },
  {
   "cell_type": "markdown",
   "metadata": {},
   "source": [
    "We use the library of Surprise to grid search hyperparameters with 5-folds cross-validation in implement_surprise.py. "
   ]
  },
  {
   "cell_type": "markdown",
   "metadata": {},
   "source": [
    "Best parameters provided by surprise: {'n_epochs': 30, 'n_factors': 10, 'lr_all': 0.005, 'reg_pu': 0.1, 'reg_qi': 0.01}. Here, 'n_factors' is the number of latent features, 'lr_all' is the learning rate, 'reg_pu' is the regularizer for user and 'reg_qi' is the regularizer for item."
   ]
  },
  {
   "cell_type": "markdown",
   "metadata": {},
   "source": [
    "The optimized model has pretty good performance on the test dataset with rmse < 0.9, but the optimized model performs not well when we submitted for a final score, which gave rmse of 1.055  as a final result. Therefore, we reasoned that there was somehow overfitting even that we have added regularizers to the model. This is also the motivation that we did the grid search by ourselves."
   ]
  },
  {
   "cell_type": "markdown",
   "metadata": {},
   "source": [
    "##### B. grid search without Surprise"
   ]
  },
  {
   "cell_type": "markdown",
   "metadata": {},
   "source": [
    "Firstly, we set $\\gamma$, the learning rate, to be 0.025 by our previous experience. Then, we use grid search to find the best parameters which are the number of latent features $K$, the regularizer for user $\\lambda_{u}$ and the regularizer for item $\\lambda_{i}$"
   ]
  },
  {
   "cell_type": "markdown",
   "metadata": {},
   "source": [
    "In gs_reg_MF.py, we do the grid search and save the results into a .npy files. "
   ]
  },
  {
   "cell_type": "markdown",
   "metadata": {},
   "source": [
    "## Part 3: Build the Regularized Model of Matrix Factorization"
   ]
  },
  {
   "cell_type": "code",
   "execution_count": 29,
   "metadata": {},
   "outputs": [
    {
     "name": "stdout",
     "output_type": "stream",
     "text": [
      "learn the matrix factorization using SGD...\n",
      "iter: 0, RMSE on training set: 1.0602437466735075.\n",
      "iter: 5, RMSE on training set: 0.9878757873912704.\n",
      "iter: 10, RMSE on training set: 0.9470166986415138.\n",
      "iter: 15, RMSE on training set: 0.9279880131409022.\n",
      "iter: 20, RMSE on training set: 0.9211889331463198.\n",
      "iter: 25, RMSE on training set: 0.9187209640351999.\n",
      "iter: 30, RMSE on training set: 0.9177720047654193.\n",
      "iter: 35, RMSE on training set: 0.9173967721402485.\n",
      "iter: 40, RMSE on training set: 0.9172454942457577.\n",
      "iter: 45, RMSE on training set: 0.9171847488622655.\n",
      "iter: 49, RMSE on training set: 0.9171636213911376.\n",
      "RMSE on test data: 0.9167276296366479.\n"
     ]
    }
   ],
   "source": [
    "from SGD_helpers import  init_MF, matrix_factorization_SGD\n",
    "# best parameters \n",
    "best_gamma = 0.025\n",
    "best_lambda_u = 0.1\n",
    "best_lambda_i = 0.01\n",
    "K = 20\n",
    "num_epochs = 50\n",
    "\n",
    "user_init, item_init = init_MF(ratings, K)\n",
    "item_feats_SGD, user_feats_SGD, rmse = matrix_factorization_SGD(ratings, test, best_gamma, K, best_lambda_u, best_lambda_i, num_epochs,\n",
    "                                                                    user_init, item_init)"
   ]
  },
  {
   "cell_type": "code",
   "execution_count": 16,
   "metadata": {},
   "outputs": [],
   "source": [
    "from MF_helpers import predict_no_bias\n",
    "# save features\n",
    "np.save(dat_dir + 'item_feats_SGD.npy', item_feats_SGD)\n",
    "np.save(dat_dir + 'user_feats_SGD.npy', user_feats_SGD)\n",
    "\n",
    "# load features\n",
    "# item_feats_SGD = np.load(dat_dir + 'item_feats_SGD.npy')\n",
    "# user_feats_SGD = np.load(dat_dir + 'user_feats_SGD.npy')\n",
    "predictions =  predict_no_bias(item_feats_SGD, user_feats_SGD)"
   ]
  },
  {
   "cell_type": "markdown",
   "metadata": {},
   "source": [
    "## Part 4: Build the Biased Model of Matrix Factorization"
   ]
  },
  {
   "cell_type": "markdown",
   "metadata": {},
   "source": [
    "#### 3.1: Overview"
   ]
  },
  {
   "cell_type": "markdown",
   "metadata": {},
   "source": [
    "As the figure of ratings distribution shown in part 1, the dominant ratings range from 3to 5. One possible reason is that most users are tended to give a higher rating. Therefore, we considered building a biasedmatrix factorization model. "
   ]
  },
  {
   "cell_type": "code",
   "execution_count": 15,
   "metadata": {
    "scrolled": true
   },
   "outputs": [
    {
     "name": "stderr",
     "output_type": "stream",
     "text": [
      "E:\\anaconda\\lib\\site-packages\\matplotlib\\axes\\_axes.py:6462: UserWarning: The 'normed' kwarg is deprecated, and has been replaced by the 'density' kwarg.\n",
      "  warnings.warn(\"The 'normed' kwarg is deprecated, and has been \"\n"
     ]
    },
    {
     "data": {
      "text/plain": [
       "<matplotlib.axes._subplots.AxesSubplot at 0x178e57d8470>"
      ]
     },
     "execution_count": 15,
     "metadata": {},
     "output_type": "execute_result"
    },
    {
     "data": {
      "image/png": "[encoded data removed]",
      "text/plain": [
       "<Figure size 432x288 with 1 Axes>"
      ]
     },
     "metadata": {},
     "output_type": "display_data"
    }
   ],
   "source": [
    "sns.distplot(data['Prediction'])"
   ]
  },
  {
   "cell_type": "markdown",
   "metadata": {},
   "source": [
    "To better model the differences from users to users and from items to items, we want to identify the portion of these values which the biases could explain. The biases are expressed as $$b_{i,u} = \\mu + b_{u} + b_{i}$$"
   ]
  },
  {
   "cell_type": "markdown",
   "metadata": {},
   "source": [
    "And we use following formula to build the biased model of matrix factorization:\n",
    "$$min_{W,Z}{\\mathbb{L}(W,Z)}:=\\frac{1}{2}\\sum_{(i,u)\\in\\Omega}[x_{i,u} - (WZ^T)_{i,u}]^2 \\\\+ \\lambda_{w}({\\lvert\\lvert W \\rvert\\rvert_F^2 + b_i^2}) + \\lambda_{z}({\\lvert\\lvert Z \\rvert\\rvert_F^2 + b_u^2})$$"
   ]
  },
  {
   "cell_type": "code",
   "execution_count": 26,
   "metadata": {},
   "outputs": [],
   "source": [
    "from MF_helpers import get_bias_train, get_bias_test"
   ]
  },
  {
   "cell_type": "code",
   "execution_count": 27,
   "metadata": {},
   "outputs": [],
   "source": [
    "bias_train, total_bias, bias_u_train, bias_i_train = get_bias_train(train) #ratings for final submissions\n",
    "bias_test = get_bias_test(test, total_bias, bias_u_train, bias_i_train)"
   ]
  },
  {
   "cell_type": "markdown",
   "metadata": {},
   "source": [
    "#### 3.2: Finding parameters for SGD by grid search"
   ]
  },
  {
   "cell_type": "markdown",
   "metadata": {},
   "source": [
    "To find the best parameters, we follow the same steps in part 2 to do the grid search, in the gs_biased_MF.py. And we save the results into several .npy files."
   ]
  },
  {
   "cell_type": "markdown",
   "metadata": {},
   "source": [
    "#### 3.3: Running SGD with the best parameters"
   ]
  },
  {
   "cell_type": "code",
   "execution_count": 28,
   "metadata": {
    "scrolled": false
   },
   "outputs": [
    {
     "name": "stdout",
     "output_type": "stream",
     "text": [
      "learn the matrix factorization using SGD...\n",
      "iter: 0, RMSE on training set: 1.0148365823565952.\n",
      "iter: 5, RMSE on training set: 0.880109842486806.\n",
      "iter: 10, RMSE on training set: 0.8252870439456371.\n",
      "iter: 15, RMSE on training set: 0.8065028849906606.\n",
      "iter: 20, RMSE on training set: 0.7996947945129235.\n",
      "iter: 25, RMSE on training set: 0.7970885996782676.\n",
      "iter: 30, RMSE on training set: 0.7960619899593706.\n",
      "iter: 35, RMSE on training set: 0.7956524401101966.\n",
      "iter: 40, RMSE on training set: 0.795488334459468.\n",
      "iter: 45, RMSE on training set: 0.7954224582089823.\n",
      "iter: 49, RMSE on training set: 0.7953995516544337.\n",
      "RMSE on test data: 1.029180515629877.\n"
     ]
    }
   ],
   "source": [
    "# define parameters\n",
    "gamma = 0.025\n",
    "K = 50\n",
    "lambda_user = 0.1 \n",
    "lambda_item = 0.01\n",
    "num_epochs = 50\n",
    "user_init, item_init = init_MF(bias_train, K)\n",
    "\n",
    "item_features_bias, user_features_bias, rmse = matrix_factorization_SGD(bias_train, bias_test, gamma, K, lambda_user, lambda_item, num_epochs, user_init, item_init)"
   ]
  },
  {
   "cell_type": "code",
   "execution_count": 25,
   "metadata": {},
   "outputs": [],
   "source": [
    "# save features\n",
    "np.save(dat_dir + 'item_features_bias.npy', item_features_bias)\n",
    "np.save(dat_dir + 'user_features_bias.npy', user_features_bias)"
   ]
  },
  {
   "cell_type": "code",
   "execution_count": 16,
   "metadata": {},
   "outputs": [],
   "source": [
    "import pickle\n",
    "tempt_dir = './'\n",
    "with open(tempt_dir + 'user_features_bias.pk','rb') as f:\n",
    "    user_features_bias = pickle.load(f)\n",
    "    \n",
    "with open(tempt_dir + 'item_features_bias.pk','rb') as f:\n",
    "    item_features_bias = pickle.load(f)"
   ]
  },
  {
   "cell_type": "markdown",
   "metadata": {},
   "source": [
    "Compute the predictions:"
   ]
  },
  {
   "cell_type": "code",
   "execution_count": 27,
   "metadata": {},
   "outputs": [],
   "source": [
    "from MF_helpers import predict_with_bias, predict_no_bias\n",
    "\n",
    "predictions = predict_with_bias(item_features_bias, user_features_bias, total_bias, bias_u_train, bias_i_train)"
   ]
  },
  {
   "cell_type": "markdown",
   "metadata": {
    "collapsed": true
   },
   "source": [
    "## Part 5: Submission"
   ]
  },
  {
   "cell_type": "markdown",
   "metadata": {},
   "source": [
    "We finally decide to use the prediction without bias."
   ]
  },
  {
   "cell_type": "code",
   "execution_count": 26,
   "metadata": {},
   "outputs": [],
   "source": [
    "from data_process import create_submission\n",
    "create_submission(predictions)"
   ]
  },
  {
   "cell_type": "code",
   "execution_count": null,
   "metadata": {},
   "outputs": [],
   "source": []
  }
 ],
 "metadata": {
  "anaconda-cloud": {},
  "kernelspec": {
   "display_name": "Python 3",
   "language": "python",
   "name": "python3"
  },
  "language_info": {
   "codemirror_mode": {
    "name": "ipython",
    "version": 3
   },
   "file_extension": ".py",
   "mimetype": "text/x-python",
   "name": "python",
   "nbconvert_exporter": "python",
   "pygments_lexer": "ipython3",
   "version": "3.6.5"
  }
 },
 "nbformat": 4,
 "nbformat_minor": 1
}
